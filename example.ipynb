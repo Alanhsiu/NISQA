{
 "cells": [
  {
   "cell_type": "code",
   "execution_count": 2,
   "metadata": {},
   "outputs": [
    {
     "name": "stdout",
     "output_type": "stream",
     "text": [
      "Device: cuda\n",
      "Model architecture: NISQA_DIM\n",
      "Loaded pretrained model from /work/b0990106x/TextRL/NISQA/weights/nisqa.tar\n",
      "reward:  2.1270697116851807\n"
     ]
    }
   ],
   "source": [
    "from nisqa.NISQA_model import nisqaModel\n",
    "base_path = '/work/b0990106x/TextRL'\n",
    "\n",
    "reward = 0\n",
    "finish = True\n",
    "if finish:\n",
    "    # get reward            \n",
    "    args = {\n",
    "        'mode': 'predict_file', \n",
    "        'pretrained_model': f'{base_path}/NISQA/weights/nisqa.tar', \n",
    "        'deg': f'{base_path}/output/example.wav', \n",
    "        'data_dir': None, \n",
    "        'output_dir': f'{base_path}/NISQA/result',\n",
    "        'csv_file': None, \n",
    "        'csv_deg': None,  \n",
    "        'num_workers': 0, \n",
    "        'bs': 1,\n",
    "        'ms_channel': None\n",
    "    }\n",
    "    args['tr_bs_val'] = args['bs']\n",
    "    args['tr_num_workers'] = args['num_workers']\n",
    "    \n",
    "    nisqa = nisqaModel(args)\n",
    "    prediction = nisqa.predict()\n",
    "    reward = float(prediction['mos_pred'].iloc[0])\n",
    "    print(\"reward: \", reward)"
   ]
  }
 ],
 "metadata": {
  "kernelspec": {
   "display_name": "textrl",
   "language": "python",
   "name": "python3"
  },
  "language_info": {
   "codemirror_mode": {
    "name": "ipython",
    "version": 3
   },
   "file_extension": ".py",
   "mimetype": "text/x-python",
   "name": "python",
   "nbconvert_exporter": "python",
   "pygments_lexer": "ipython3",
   "version": "3.9.9"
  }
 },
 "nbformat": 4,
 "nbformat_minor": 2
}
